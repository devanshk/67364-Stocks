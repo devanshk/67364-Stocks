{
 "cells": [
  {
   "cell_type": "markdown",
   "metadata": {},
   "source": [
    "## Stock Prediction\n"
   ]
  },
  {
   "cell_type": "code",
   "execution_count": 1,
   "metadata": {
    "collapsed": false
   },
   "outputs": [
    {
     "name": "stderr",
     "output_type": "stream",
     "text": [
      "/Users/devanshkukreja/miniconda3/lib/python3.5/site-packages/sklearn/cross_validation.py:44: DeprecationWarning: This module was deprecated in version 0.18 in favor of the model_selection module into which all the refactored classes and functions are moved. Also note that the interface of the new CV iterators are different from that of this module. This module will be removed in 0.20.\n",
      "  \"This module will be removed in 0.20.\", DeprecationWarning)\n"
     ]
    }
   ],
   "source": [
    "# Import all our required libraries\n",
    "import pandas as pd # Reading in and processing the data\n",
    "import matplotlib.pyplot as plt # Visualizing the data\n",
    "from sklearn.model_selection import train_test_split # Split training data\n",
    "from sklearn import metrics, preprocessing, cross_validation # Assess the performance of our model\n",
    "\n",
    "# Models to experiment with\n",
    "from sklearn.ensemble import *\n",
    "from sklearn.neighbors import *\n",
    "from sklearn.linear_model import *\n",
    "from sklearn.naive_bayes import *\n",
    "from sklearn.svm import *\n",
    "\n",
    "# And let's see matplotlib graphs in the notebook\n",
    "%matplotlib inline"
   ]
  },
  {
   "cell_type": "code",
   "execution_count": 2,
   "metadata": {
    "collapsed": true
   },
   "outputs": [],
   "source": [
    "# Define some Hyperparameters\n",
    "DAYS = 10 # The number of previous days to look at when predicting the next price + 1\n",
    "STOCKCOUNT = 93 # Number of stocks to test\n",
    "THRESHOLD = 0.015 # If the stock changes by less than this much, it counts as no change"
   ]
  },
  {
   "cell_type": "code",
   "execution_count": 13,
   "metadata": {
    "collapsed": true
   },
   "outputs": [],
   "source": [
    "# Takes in a row and determines the value we want to predict\n",
    "# Simple approach with a hard separation is\n",
    "#     return row['Close'] > row['Open']\n",
    "\n",
    "def change(row):\n",
    "    val = row['Close'] - row['Open']\n",
    "    percentChange = val/row['Open']\n",
    "    if (abs(percentChange) > THRESHOLD):\n",
    "        if percentChange > 0: return 1\n",
    "        elif percentChange < 0: return -1\n",
    "    return 0"
   ]
  },
  {
   "cell_type": "code",
   "execution_count": 4,
   "metadata": {
    "collapsed": false
   },
   "outputs": [],
   "source": [
    "# Data has the form StockID, Opening Price, Maximum Price, Minimum Price, Closing Price, Trading Volume Present\n",
    "data = pd.read_csv('train.csv')\n",
    "\n",
    "# Extract STOCKCOUNT stocks to predict\n",
    "stock1 = data.loc[:STOCKCOUNT]\n",
    "stock1 = stock1.drop('StId', 1)\n",
    "stock1 = pd.DataFrame(stock1.values.reshape((500*(STOCKCOUNT+1), 5)), columns=['Open', 'Max', 'Min', 'Close', 'Volume'])\n",
    "\n",
    "stock1['Increase'] = stock1.apply(lambda row: change(row), axis=1)"
   ]
  },
  {
   "cell_type": "code",
   "execution_count": 5,
   "metadata": {
    "collapsed": false
   },
   "outputs": [
    {
     "data": {
      "text/html": [
       "<div>\n",
       "<table border=\"1\" class=\"dataframe\">\n",
       "  <thead>\n",
       "    <tr style=\"text-align: right;\">\n",
       "      <th></th>\n",
       "      <th>Open</th>\n",
       "      <th>Max</th>\n",
       "      <th>Min</th>\n",
       "      <th>Close</th>\n",
       "      <th>Volume</th>\n",
       "      <th>Increase</th>\n",
       "    </tr>\n",
       "  </thead>\n",
       "  <tbody>\n",
       "    <tr>\n",
       "      <th>0</th>\n",
       "      <td>1.00000</td>\n",
       "      <td>1.01630</td>\n",
       "      <td>0.99640</td>\n",
       "      <td>1.00000</td>\n",
       "      <td>1260000.0</td>\n",
       "      <td>0</td>\n",
       "    </tr>\n",
       "    <tr>\n",
       "      <th>1</th>\n",
       "      <td>1.00000</td>\n",
       "      <td>1.00550</td>\n",
       "      <td>0.99106</td>\n",
       "      <td>1.00000</td>\n",
       "      <td>1050000.0</td>\n",
       "      <td>0</td>\n",
       "    </tr>\n",
       "    <tr>\n",
       "      <th>2</th>\n",
       "      <td>1.00550</td>\n",
       "      <td>1.01270</td>\n",
       "      <td>0.99640</td>\n",
       "      <td>1.00000</td>\n",
       "      <td>1420000.0</td>\n",
       "      <td>0</td>\n",
       "    </tr>\n",
       "    <tr>\n",
       "      <th>3</th>\n",
       "      <td>0.98919</td>\n",
       "      <td>1.00720</td>\n",
       "      <td>0.98746</td>\n",
       "      <td>1.00550</td>\n",
       "      <td>1540000.0</td>\n",
       "      <td>1</td>\n",
       "    </tr>\n",
       "    <tr>\n",
       "      <th>4</th>\n",
       "      <td>0.98385</td>\n",
       "      <td>0.99467</td>\n",
       "      <td>0.98025</td>\n",
       "      <td>0.98919</td>\n",
       "      <td>1390000.0</td>\n",
       "      <td>0</td>\n",
       "    </tr>\n",
       "    <tr>\n",
       "      <th>5</th>\n",
       "      <td>0.98746</td>\n",
       "      <td>0.99106</td>\n",
       "      <td>0.98025</td>\n",
       "      <td>0.98385</td>\n",
       "      <td>1230000.0</td>\n",
       "      <td>0</td>\n",
       "    </tr>\n",
       "    <tr>\n",
       "      <th>6</th>\n",
       "      <td>0.98558</td>\n",
       "      <td>0.99640</td>\n",
       "      <td>0.96757</td>\n",
       "      <td>0.98746</td>\n",
       "      <td>3010000.0</td>\n",
       "      <td>0</td>\n",
       "    </tr>\n",
       "    <tr>\n",
       "      <th>7</th>\n",
       "      <td>1.00360</td>\n",
       "      <td>1.00550</td>\n",
       "      <td>0.98198</td>\n",
       "      <td>0.98558</td>\n",
       "      <td>3280000.0</td>\n",
       "      <td>-1</td>\n",
       "    </tr>\n",
       "    <tr>\n",
       "      <th>8</th>\n",
       "      <td>1.00720</td>\n",
       "      <td>1.01990</td>\n",
       "      <td>0.99827</td>\n",
       "      <td>1.00360</td>\n",
       "      <td>4610000.0</td>\n",
       "      <td>0</td>\n",
       "    </tr>\n",
       "    <tr>\n",
       "      <th>9</th>\n",
       "      <td>1.01270</td>\n",
       "      <td>1.01440</td>\n",
       "      <td>1.00720</td>\n",
       "      <td>1.00720</td>\n",
       "      <td>3490000.0</td>\n",
       "      <td>0</td>\n",
       "    </tr>\n",
       "  </tbody>\n",
       "</table>\n",
       "</div>"
      ],
      "text/plain": [
       "      Open      Max      Min    Close     Volume  Increase\n",
       "0  1.00000  1.01630  0.99640  1.00000  1260000.0         0\n",
       "1  1.00000  1.00550  0.99106  1.00000  1050000.0         0\n",
       "2  1.00550  1.01270  0.99640  1.00000  1420000.0         0\n",
       "3  0.98919  1.00720  0.98746  1.00550  1540000.0         1\n",
       "4  0.98385  0.99467  0.98025  0.98919  1390000.0         0\n",
       "5  0.98746  0.99106  0.98025  0.98385  1230000.0         0\n",
       "6  0.98558  0.99640  0.96757  0.98746  3010000.0         0\n",
       "7  1.00360  1.00550  0.98198  0.98558  3280000.0        -1\n",
       "8  1.00720  1.01990  0.99827  1.00360  4610000.0         0\n",
       "9  1.01270  1.01440  1.00720  1.00720  3490000.0         0"
      ]
     },
     "execution_count": 5,
     "metadata": {},
     "output_type": "execute_result"
    }
   ],
   "source": [
    "data.head()\n",
    "stock1.head(10)"
   ]
  },
  {
   "cell_type": "code",
   "execution_count": 6,
   "metadata": {
    "collapsed": false
   },
   "outputs": [],
   "source": [
    "# Extract our input data and output label arrays\n",
    "stock1Data = stock1\n",
    "\n",
    "x = []\n",
    "y = []\n",
    "\n",
    "# For each stock\n",
    "for i in range(STOCKCOUNT):\n",
    "    \n",
    "    # Restart its date calculations\n",
    "    for j in range(DAYS+500*i, 500*(i+1)):\n",
    "        trainDF = stock1Data[j-DAYS:j-1]\n",
    "        trainInput = trainDF.values.flatten()\n",
    "        x += [trainInput]\n",
    "\n",
    "        output = stock1['Increase'][j]\n",
    "        y += [output]"
   ]
  },
  {
   "cell_type": "code",
   "execution_count": 7,
   "metadata": {
    "collapsed": false
   },
   "outputs": [
    {
     "data": {
      "text/plain": [
       "<matplotlib.collections.PathCollection at 0x11357bdd8>"
      ]
     },
     "execution_count": 7,
     "metadata": {},
     "output_type": "execute_result"
    },
    {
     "data": {
      "image/png": "[encoded data removed]",
      "text/plain": [
       "<matplotlib.figure.Figure at 0x111cf25f8>"
      ]
     },
     "metadata": {},
     "output_type": "display_data"
    }
   ],
   "source": [
    "# Visualize the data\n",
    "fix, ax = plt.subplots()\n",
    "ax.scatter([g[0] for g in x], [g[4] for g in x], c=y, edgecolors='none')"
   ]
  },
  {
   "cell_type": "code",
   "execution_count": 8,
   "metadata": {
    "collapsed": true
   },
   "outputs": [],
   "source": [
    "# Split this into training and test data\n",
    "x_train, x_test, y_train, y_test = train_test_split(x,y, test_size=0.25, random_state=(364))"
   ]
  },
  {
   "cell_type": "code",
   "execution_count": 9,
   "metadata": {
    "collapsed": false
   },
   "outputs": [],
   "source": [
    "# Decide what model we're using\n",
    "# model = RandomForestClassifier()\n",
    "# model = GaussianNB()\n",
    "# model = Lasso()\n",
    "# model = LogisticRegression(penalty='l1', C=300)\n",
    "# model = SGDClassifier()\n",
    "model = SVC(kernel='rbf')"
   ]
  },
  {
   "cell_type": "code",
   "execution_count": 10,
   "metadata": {
    "collapsed": false
   },
   "outputs": [
    {
     "data": {
      "text/plain": [
       "SVC(C=1.0, cache_size=200, class_weight=None, coef0=0.0,\n",
       "  decision_function_shape=None, degree=3, gamma='auto', kernel='rbf',\n",
       "  max_iter=-1, probability=False, random_state=None, shrinking=True,\n",
       "  tol=0.001, verbose=False)"
      ]
     },
     "execution_count": 10,
     "metadata": {},
     "output_type": "execute_result"
    }
   ],
   "source": [
    "model.fit(x_train, y_train)"
   ]
  },
  {
   "cell_type": "code",
   "execution_count": 11,
   "metadata": {
    "collapsed": false
   },
   "outputs": [
    {
     "data": {
      "text/plain": [
       "1.0"
      ]
     },
     "execution_count": 11,
     "metadata": {},
     "output_type": "execute_result"
    }
   ],
   "source": [
    "# Sanity check, make sure it learned its training data\n",
    "expected = y_train\n",
    "predicted = model.predict(x_train)\n",
    "metrics.accuracy_score(expected, predicted)"
   ]
  },
  {
   "cell_type": "code",
   "execution_count": 12,
   "metadata": {
    "collapsed": false
   },
   "outputs": [
    {
     "data": {
      "text/plain": [
       "0.69787140978715867"
      ]
     },
     "execution_count": 12,
     "metadata": {},
     "output_type": "execute_result"
    }
   ],
   "source": [
    "scores = cross_validation.cross_val_score(model, x, y, cv=3, scoring = 'accuracy')\n",
    "scores.mean()"
   ]
  },
  {
   "cell_type": "markdown",
   "metadata": {
    "collapsed": true
   },
   "source": [
    "#### Which came first - the tweets or the stock price?\n",
    "#### Start by doing it manually to see correlation\n",
    "#### Binning"
   ]
  }
 ],
 "metadata": {
  "kernelspec": {
   "display_name": "Python 3",
   "language": "python",
   "name": "python3"
  },
  "language_info": {
   "codemirror_mode": {
    "name": "ipython",
    "version": 3
   },
   "file_extension": ".py",
   "mimetype": "text/x-python",
   "name": "python",
   "nbconvert_exporter": "python",
   "pygments_lexer": "ipython3",
   "version": "3.5.2"
  }
 },
 "nbformat": 4,
 "nbformat_minor": 2
}
