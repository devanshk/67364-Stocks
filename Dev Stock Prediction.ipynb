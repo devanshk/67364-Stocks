{
 "cells": [
  {
   "cell_type": "markdown",
   "metadata": {},
   "source": [
    "## Stock Prediction\n"
   ]
  },
  {
   "cell_type": "code",
   "execution_count": 81,
   "metadata": {
    "collapsed": true
   },
   "outputs": [],
   "source": [
    "# Import all our required libraries\n",
    "import pandas as pd # Reading in and processing the data\n",
    "import matplotlib.pyplot as plt # Visualizing the data\n",
    "from sklearn.model_selection import train_test_split # Split training data\n",
    "from sklearn import metrics # Assess the performance of our model\n",
    "\n",
    "# Models to experiment with\n",
    "from sklearn.ensemble import *\n",
    "from sklearn.neighbors import *\n",
    "from sklearn.linear_model import *\n",
    "\n",
    "# And let's see matplotlib graphs in the notebook\n",
    "%matplotlib inline"
   ]
  },
  {
   "cell_type": "code",
   "execution_count": 82,
   "metadata": {
    "collapsed": false
   },
   "outputs": [],
   "source": [
    "# Data has the form StockID, Opening Price, Maximum Price, Minimum Price, Closing Price, Trading Volume Present\n",
    "data = pd.read_csv('train.csv')\n",
    "\n",
    "# Extract the data for just stock 1 to start with\n",
    "stock1 = data.loc[:'0']\n",
    "stock1 = stock1.drop('StId', 1)\n",
    "stock1 = pd.DataFrame(stock1.values.reshape((500, 5)), columns=['Open', 'Max', 'Min', 'Close', 'Volume'])\n",
    "stock1['Increase'] = (stock1['Close'] > stock1['Open']).astype(int)"
   ]
  },
  {
   "cell_type": "code",
   "execution_count": 84,
   "metadata": {
    "collapsed": false
   },
   "outputs": [
    {
     "data": {
      "text/html": [
       "<div>\n",
       "<table border=\"1\" class=\"dataframe\">\n",
       "  <thead>\n",
       "    <tr style=\"text-align: right;\">\n",
       "      <th></th>\n",
       "      <th>Open</th>\n",
       "      <th>Max</th>\n",
       "      <th>Min</th>\n",
       "      <th>Close</th>\n",
       "      <th>Volume</th>\n",
       "      <th>Increase</th>\n",
       "    </tr>\n",
       "  </thead>\n",
       "  <tbody>\n",
       "    <tr>\n",
       "      <th>0</th>\n",
       "      <td>1.00000</td>\n",
       "      <td>1.01630</td>\n",
       "      <td>0.99640</td>\n",
       "      <td>1.00000</td>\n",
       "      <td>1260000.0</td>\n",
       "      <td>0</td>\n",
       "    </tr>\n",
       "    <tr>\n",
       "      <th>1</th>\n",
       "      <td>1.00000</td>\n",
       "      <td>1.00550</td>\n",
       "      <td>0.99106</td>\n",
       "      <td>1.00000</td>\n",
       "      <td>1050000.0</td>\n",
       "      <td>0</td>\n",
       "    </tr>\n",
       "    <tr>\n",
       "      <th>2</th>\n",
       "      <td>1.00550</td>\n",
       "      <td>1.01270</td>\n",
       "      <td>0.99640</td>\n",
       "      <td>1.00000</td>\n",
       "      <td>1420000.0</td>\n",
       "      <td>0</td>\n",
       "    </tr>\n",
       "    <tr>\n",
       "      <th>3</th>\n",
       "      <td>0.98919</td>\n",
       "      <td>1.00720</td>\n",
       "      <td>0.98746</td>\n",
       "      <td>1.00550</td>\n",
       "      <td>1540000.0</td>\n",
       "      <td>1</td>\n",
       "    </tr>\n",
       "    <tr>\n",
       "      <th>4</th>\n",
       "      <td>0.98385</td>\n",
       "      <td>0.99467</td>\n",
       "      <td>0.98025</td>\n",
       "      <td>0.98919</td>\n",
       "      <td>1390000.0</td>\n",
       "      <td>1</td>\n",
       "    </tr>\n",
       "    <tr>\n",
       "      <th>5</th>\n",
       "      <td>0.98746</td>\n",
       "      <td>0.99106</td>\n",
       "      <td>0.98025</td>\n",
       "      <td>0.98385</td>\n",
       "      <td>1230000.0</td>\n",
       "      <td>0</td>\n",
       "    </tr>\n",
       "    <tr>\n",
       "      <th>6</th>\n",
       "      <td>0.98558</td>\n",
       "      <td>0.99640</td>\n",
       "      <td>0.96757</td>\n",
       "      <td>0.98746</td>\n",
       "      <td>3010000.0</td>\n",
       "      <td>1</td>\n",
       "    </tr>\n",
       "    <tr>\n",
       "      <th>7</th>\n",
       "      <td>1.00360</td>\n",
       "      <td>1.00550</td>\n",
       "      <td>0.98198</td>\n",
       "      <td>0.98558</td>\n",
       "      <td>3280000.0</td>\n",
       "      <td>0</td>\n",
       "    </tr>\n",
       "    <tr>\n",
       "      <th>8</th>\n",
       "      <td>1.00720</td>\n",
       "      <td>1.01990</td>\n",
       "      <td>0.99827</td>\n",
       "      <td>1.00360</td>\n",
       "      <td>4610000.0</td>\n",
       "      <td>0</td>\n",
       "    </tr>\n",
       "    <tr>\n",
       "      <th>9</th>\n",
       "      <td>1.01270</td>\n",
       "      <td>1.01440</td>\n",
       "      <td>1.00720</td>\n",
       "      <td>1.00720</td>\n",
       "      <td>3490000.0</td>\n",
       "      <td>0</td>\n",
       "    </tr>\n",
       "  </tbody>\n",
       "</table>\n",
       "</div>"
      ],
      "text/plain": [
       "      Open      Max      Min    Close     Volume  Increase\n",
       "0  1.00000  1.01630  0.99640  1.00000  1260000.0         0\n",
       "1  1.00000  1.00550  0.99106  1.00000  1050000.0         0\n",
       "2  1.00550  1.01270  0.99640  1.00000  1420000.0         0\n",
       "3  0.98919  1.00720  0.98746  1.00550  1540000.0         1\n",
       "4  0.98385  0.99467  0.98025  0.98919  1390000.0         1\n",
       "5  0.98746  0.99106  0.98025  0.98385  1230000.0         0\n",
       "6  0.98558  0.99640  0.96757  0.98746  3010000.0         1\n",
       "7  1.00360  1.00550  0.98198  0.98558  3280000.0         0\n",
       "8  1.00720  1.01990  0.99827  1.00360  4610000.0         0\n",
       "9  1.01270  1.01440  1.00720  1.00720  3490000.0         0"
      ]
     },
     "execution_count": 84,
     "metadata": {},
     "output_type": "execute_result"
    }
   ],
   "source": [
    "stock1.head(10)"
   ]
  },
  {
   "cell_type": "code",
   "execution_count": 98,
   "metadata": {
    "collapsed": false
   },
   "outputs": [
    {
     "name": "stdout",
     "output_type": "stream",
     "text": [
      "      Open      Max      Min    Close     Volume\n",
      "0  1.00000  1.01630  0.99640  1.00000  1260000.0\n",
      "1  1.00000  1.00550  0.99106  1.00000  1050000.0\n",
      "2  1.00550  1.01270  0.99640  1.00000  1420000.0\n",
      "3  0.98919  1.00720  0.98746  1.00550  1540000.0\n",
      "4  0.98385  0.99467  0.98025  0.98919  1390000.0\n",
      "5  0.98746  0.99106  0.98025  0.98385  1230000.0\n",
      "6  0.98558  0.99640  0.96757  0.98746  3010000.0\n",
      "7  1.00360  1.00550  0.98198  0.98558  3280000.0\n",
      "8  1.00720  1.01990  0.99827  1.00360  4610000.0\n"
     ]
    }
   ],
   "source": [
    "stock1Data = stock1.drop('Increase', 1)\n",
    "\n",
    "for i in range(10, 500):\n",
    "    train = stock1Data[i-10:i-1]\n",
    "    if (i==10):\n",
    "        print(train)"
   ]
  },
  {
   "cell_type": "code",
   "execution_count": null,
   "metadata": {
    "collapsed": true
   },
   "outputs": [],
   "source": []
  }
 ],
 "metadata": {
  "kernelspec": {
   "display_name": "Python 3",
   "language": "python",
   "name": "python3"
  },
  "language_info": {
   "codemirror_mode": {
    "name": "ipython",
    "version": 3
   },
   "file_extension": ".py",
   "mimetype": "text/x-python",
   "name": "python",
   "nbconvert_exporter": "python",
   "pygments_lexer": "ipython3",
   "version": "3.5.2"
  }
 },
 "nbformat": 4,
 "nbformat_minor": 2
}
