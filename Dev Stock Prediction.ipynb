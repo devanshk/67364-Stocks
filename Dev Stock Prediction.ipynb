{
 "cells": [
  {
   "cell_type": "markdown",
   "metadata": {},
   "source": [
    "## Stock Prediction\n"
   ]
  },
  {
   "cell_type": "code",
   "execution_count": 5,
   "metadata": {
    "collapsed": false
   },
   "outputs": [],
   "source": [
    "# Import all our required libraries\n",
    "import pandas as pd # Reading in and processing the data\n",
    "import matplotlib.pyplot as plt # Visualizing the data\n",
    "from sklearn.model_selection import train_test_split # Split training data\n",
    "from sklearn import metrics, preprocessing, cross_validation # Assess the performance of our model\n",
    "\n",
    "# Models to experiment with\n",
    "from sklearn.ensemble import *\n",
    "from sklearn.neighbors import *\n",
    "from sklearn.linear_model import *\n",
    "from sklearn.naive_bayes import *\n",
    "\n",
    "# And let's see matplotlib graphs in the notebook\n",
    "%matplotlib inline"
   ]
  },
  {
   "cell_type": "code",
   "execution_count": 2,
   "metadata": {
    "collapsed": true
   },
   "outputs": [],
   "source": [
    "# Define some Hyperparameters\n",
    "DAYS = 10 # The number of previous days to look at when predicting the next price\n",
    "STOCKCOUNT = 91 # Number of stocks to test"
   ]
  },
  {
   "cell_type": "code",
   "execution_count": 3,
   "metadata": {
    "collapsed": false
   },
   "outputs": [],
   "source": [
    "# Data has the form StockID, Opening Price, Maximum Price, Minimum Price, Closing Price, Trading Volume Present\n",
    "data = pd.read_csv('train.csv')\n",
    "\n",
    "# Extract STOCKCOUNT stocks to predict\n",
    "stock1 = data.loc[:STOCKCOUNT]\n",
    "stock1 = stock1.drop('StId', 1)\n",
    "stock1 = pd.DataFrame(stock1.values.reshape((500*(STOCKCOUNT+1), 5)), columns=['Open', 'Max', 'Min', 'Close', 'Volume'])\n",
    "stock1['Increase'] = (stock1['Close'] > stock1['Open']).astype(int)"
   ]
  },
  {
   "cell_type": "code",
   "execution_count": 4,
   "metadata": {
    "collapsed": false
   },
   "outputs": [
    {
     "data": {
      "text/html": [
       "<div>\n",
       "<table border=\"1\" class=\"dataframe\">\n",
       "  <thead>\n",
       "    <tr style=\"text-align: right;\">\n",
       "      <th></th>\n",
       "      <th>Open</th>\n",
       "      <th>Max</th>\n",
       "      <th>Min</th>\n",
       "      <th>Close</th>\n",
       "      <th>Volume</th>\n",
       "      <th>Increase</th>\n",
       "    </tr>\n",
       "  </thead>\n",
       "  <tbody>\n",
       "    <tr>\n",
       "      <th>0</th>\n",
       "      <td>1.00000</td>\n",
       "      <td>1.01630</td>\n",
       "      <td>0.99640</td>\n",
       "      <td>1.00000</td>\n",
       "      <td>1260000.0</td>\n",
       "      <td>0</td>\n",
       "    </tr>\n",
       "    <tr>\n",
       "      <th>1</th>\n",
       "      <td>1.00000</td>\n",
       "      <td>1.00550</td>\n",
       "      <td>0.99106</td>\n",
       "      <td>1.00000</td>\n",
       "      <td>1050000.0</td>\n",
       "      <td>0</td>\n",
       "    </tr>\n",
       "    <tr>\n",
       "      <th>2</th>\n",
       "      <td>1.00550</td>\n",
       "      <td>1.01270</td>\n",
       "      <td>0.99640</td>\n",
       "      <td>1.00000</td>\n",
       "      <td>1420000.0</td>\n",
       "      <td>0</td>\n",
       "    </tr>\n",
       "    <tr>\n",
       "      <th>3</th>\n",
       "      <td>0.98919</td>\n",
       "      <td>1.00720</td>\n",
       "      <td>0.98746</td>\n",
       "      <td>1.00550</td>\n",
       "      <td>1540000.0</td>\n",
       "      <td>1</td>\n",
       "    </tr>\n",
       "    <tr>\n",
       "      <th>4</th>\n",
       "      <td>0.98385</td>\n",
       "      <td>0.99467</td>\n",
       "      <td>0.98025</td>\n",
       "      <td>0.98919</td>\n",
       "      <td>1390000.0</td>\n",
       "      <td>1</td>\n",
       "    </tr>\n",
       "  </tbody>\n",
       "</table>\n",
       "</div>"
      ],
      "text/plain": [
       "      Open      Max      Min    Close     Volume  Increase\n",
       "0  1.00000  1.01630  0.99640  1.00000  1260000.0         0\n",
       "1  1.00000  1.00550  0.99106  1.00000  1050000.0         0\n",
       "2  1.00550  1.01270  0.99640  1.00000  1420000.0         0\n",
       "3  0.98919  1.00720  0.98746  1.00550  1540000.0         1\n",
       "4  0.98385  0.99467  0.98025  0.98919  1390000.0         1"
      ]
     },
     "execution_count": 4,
     "metadata": {},
     "output_type": "execute_result"
    }
   ],
   "source": [
    "data.head()\n",
    "stock1.head()"
   ]
  },
  {
   "cell_type": "code",
   "execution_count": 6,
   "metadata": {
    "collapsed": false
   },
   "outputs": [],
   "source": [
    "# Extract our input data and output label\n",
    "stock1Data = stock1.drop('Increase', 1)\n",
    "\n",
    "x = []\n",
    "y = []\n",
    "for i in range(STOCKCOUNT):\n",
    "    for j in range(DAYS+500*i, 500*(i+1)):\n",
    "        trainDF = stock1Data[j-DAYS:j-1]\n",
    "        trainInput = trainDF.values.flatten()\n",
    "        x += [trainInput]\n",
    "\n",
    "        output = stock1['Increase'][j]\n",
    "        y += [output]"
   ]
  },
  {
   "cell_type": "code",
   "execution_count": 7,
   "metadata": {
    "collapsed": true
   },
   "outputs": [],
   "source": [
    "# Split this into training and test data\n",
    "x_train, x_test, y_train, y_test = train_test_split(x,y, test_size=0.25, random_state=(364))"
   ]
  },
  {
   "cell_type": "code",
   "execution_count": 11,
   "metadata": {
    "collapsed": false
   },
   "outputs": [],
   "source": [
    "# Decide what model we're using\n",
    "# model = RandomForestClassifier()\n",
    "# model = GaussianNB()\n",
    "# model = Lasso()\n",
    "model = LogisticRegression(penalty='l1', C=300)\n",
    "# model = SGDClassifier()"
   ]
  },
  {
   "cell_type": "code",
   "execution_count": 12,
   "metadata": {
    "collapsed": false
   },
   "outputs": [
    {
     "data": {
      "text/plain": [
       "LogisticRegression(C=300, class_weight=None, dual=False, fit_intercept=True,\n",
       "          intercept_scaling=1, max_iter=100, multi_class='ovr', n_jobs=1,\n",
       "          penalty='l1', random_state=None, solver='liblinear', tol=0.0001,\n",
       "          verbose=0, warm_start=False)"
      ]
     },
     "execution_count": 12,
     "metadata": {},
     "output_type": "execute_result"
    }
   ],
   "source": [
    "model.fit(x_train, y_train)"
   ]
  },
  {
   "cell_type": "code",
   "execution_count": 13,
   "metadata": {
    "collapsed": false
   },
   "outputs": [
    {
     "data": {
      "text/plain": [
       "0.55938640033490816"
      ]
     },
     "execution_count": 13,
     "metadata": {},
     "output_type": "execute_result"
    }
   ],
   "source": [
    "# Sanity check, make sure it learned its training data\n",
    "expected = y_train\n",
    "predicted = model.predict(x_train)\n",
    "metrics.accuracy_score(expected, predicted)"
   ]
  },
  {
   "cell_type": "code",
   "execution_count": null,
   "metadata": {
    "collapsed": true
   },
   "outputs": [],
   "source": [
    "def meanSquaredLoss(estimator, x, y):\n",
    "    return (actual-guess)**2\n",
    "\n",
    "scores = cross_validation.cross_val_score(model, x, y, cv=5, scoring = meanSquaredLoss)\n",
    "scores.mean()"
   ]
  },
  {
   "cell_type": "code",
   "execution_count": null,
   "metadata": {
    "collapsed": true
   },
   "outputs": [],
   "source": []
  }
 ],
 "metadata": {
  "kernelspec": {
   "display_name": "Python 3",
   "language": "python",
   "name": "python3"
  },
  "language_info": {
   "codemirror_mode": {
    "name": "ipython",
    "version": 3
   },
   "file_extension": ".py",
   "mimetype": "text/x-python",
   "name": "python",
   "nbconvert_exporter": "python",
   "pygments_lexer": "ipython3",
   "version": "3.5.2"
  }
 },
 "nbformat": 4,
 "nbformat_minor": 2
}
